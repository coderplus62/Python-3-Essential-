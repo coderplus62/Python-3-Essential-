{
 "cells": [
  {
   "cell_type": "code",
   "execution_count": 1,
   "metadata": {},
   "outputs": [],
   "source": [
    "import numpy as np"
   ]
  },
  {
   "cell_type": "code",
   "execution_count": 2,
   "metadata": {},
   "outputs": [
    {
     "name": "stdout",
     "output_type": "stream",
     "text": [
      "[  5.    166.     72.     19.    175.     25.8     0.587  51.   ]\n",
      "(8,)\n",
      "[[  5.    166.     72.     19.    175.     25.8     0.587  51.   ]]\n",
      "(1, 8)\n"
     ]
    }
   ],
   "source": [
    "input_data = (5,166,72,19,175,25.8,0.587,51)\n",
    "\n",
    "input_data_as_numpy_array = np.asarray(input_data)\n",
    "print(input_data_as_numpy_array)\n",
    "print(input_data_as_numpy_array.shape)\n",
    "\n",
    "input_data_reshaped = input_data_as_numpy_array.reshape(1,-1)\n",
    "print(input_data_reshaped)\n",
    "print(input_data_reshaped.shape)\n"
   ]
  },
  {
   "cell_type": "code",
   "execution_count": null,
   "metadata": {},
   "outputs": [],
   "source": []
  }
 ],
 "metadata": {
  "interpreter": {
   "hash": "e8f1aba4c25701c254175ea0a7f443054a1ca1fab764b5f5c8acfda8bde74c77"
  },
  "kernelspec": {
   "display_name": "Python 3.6.13 ('data_analyst')",
   "language": "python",
   "name": "python3"
  },
  "language_info": {
   "codemirror_mode": {
    "name": "ipython",
    "version": 3
   },
   "file_extension": ".py",
   "mimetype": "text/x-python",
   "name": "python",
   "nbconvert_exporter": "python",
   "pygments_lexer": "ipython3",
   "version": "3.6.13"
  },
  "orig_nbformat": 4
 },
 "nbformat": 4,
 "nbformat_minor": 2
}
