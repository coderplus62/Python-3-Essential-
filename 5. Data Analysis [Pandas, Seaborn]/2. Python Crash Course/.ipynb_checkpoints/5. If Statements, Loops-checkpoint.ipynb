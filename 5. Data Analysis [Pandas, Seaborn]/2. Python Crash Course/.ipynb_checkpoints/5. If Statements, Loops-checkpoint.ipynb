{
 "cells": [
  {
   "cell_type": "markdown",
   "id": "0add81a6",
   "metadata": {},
   "source": [
    "# If Statement"
   ]
  },
  {
   "cell_type": "markdown",
   "id": "d15a6df2",
   "metadata": {},
   "source": [
    "<img src=\"if.jpg\" style=\"width:200px;height:200px\"/>"
   ]
  },
  {
   "cell_type": "code",
   "execution_count": 2,
   "id": "0944a5b8",
   "metadata": {},
   "outputs": [
    {
     "name": "stdout",
     "output_type": "stream",
     "text": [
      "0.4==4/10 is True\n"
     ]
    }
   ],
   "source": [
    "if 0.4==4/10:\n",
    "    print('0.4==4/10 is True')"
   ]
  },
  {
   "cell_type": "code",
   "execution_count": 10,
   "id": "6a88442f",
   "metadata": {},
   "outputs": [],
   "source": [
    "import random"
   ]
  },
  {
   "cell_type": "code",
   "execution_count": 20,
   "id": "bda8a38b",
   "metadata": {},
   "outputs": [
    {
     "name": "stdout",
     "output_type": "stream",
     "text": [
      "Insert your prediction:2\n",
      "Dice show: 2 \n",
      " You are Win\n"
     ]
    }
   ],
   "source": [
    "dice = random.randrange(1,7)\n",
    "\n",
    "pred = int(input('Insert your prediction:'))\n",
    "\n",
    "if pred == dice:\n",
    "    print(f'Dice show: {dice} \\n You are Win')\n",
    "\n",
    "else:\n",
    "    print(f'Dice show: {dice} \\n Your are Lose')\n"
   ]
  },
  {
   "cell_type": "code",
   "execution_count": 23,
   "id": "cd1bf7f8",
   "metadata": {},
   "outputs": [
    {
     "name": "stdout",
     "output_type": "stream",
     "text": [
      "Enter your hobby id:3\n",
      "art\n"
     ]
    }
   ],
   "source": [
    "hobby = {1:'sport',2:'music',3:'art',4:'game'}\n",
    "picker = int(input('Enter your hobby id:'))\n",
    "\n",
    "if picker == 1:\n",
    "    print(hobby[picker])\n",
    "elif picker == 2:\n",
    "    print(hobby[picker])\n",
    "elif picker == 3:\n",
    "    print(hobby[picker])\n",
    "else:\n",
    "    print(hobby[picker])\n",
    "    \n"
   ]
  },
  {
   "cell_type": "markdown",
   "id": "96aa4233",
   "metadata": {},
   "source": [
    "# For Loop"
   ]
  },
  {
   "cell_type": "markdown",
   "id": "be401c0d",
   "metadata": {},
   "source": [
    "<img src=\"for.jpg\" style=\"width:200px;height:200px\"/>"
   ]
  },
  {
   "cell_type": "code",
   "execution_count": 24,
   "id": "461d4f5c",
   "metadata": {},
   "outputs": [],
   "source": [
    "num = [1,2,3,4,5,6]"
   ]
  },
  {
   "cell_type": "code",
   "execution_count": 25,
   "id": "d9040092",
   "metadata": {},
   "outputs": [
    {
     "name": "stdout",
     "output_type": "stream",
     "text": [
      "1\n",
      "2\n",
      "3\n",
      "4\n",
      "5\n",
      "6\n"
     ]
    }
   ],
   "source": [
    "for i in num:\n",
    "    print(i)"
   ]
  },
  {
   "cell_type": "code",
   "execution_count": 26,
   "id": "43c20a1a",
   "metadata": {},
   "outputs": [
    {
     "name": "stdout",
     "output_type": "stream",
     "text": [
      "1 = odd\n",
      "2 = even\n",
      "3 = odd\n",
      "4 = even\n",
      "5 = odd\n",
      "6 = even\n"
     ]
    }
   ],
   "source": [
    "for x in num:\n",
    "    if x%2 == 0:\n",
    "        print(f'{x} = even')\n",
    "    else:\n",
    "        print(f'{x} = odd')"
   ]
  },
  {
   "cell_type": "code",
   "execution_count": 29,
   "id": "4e075467",
   "metadata": {},
   "outputs": [
    {
     "name": "stdout",
     "output_type": "stream",
     "text": [
      "0\n",
      "1\n",
      "2\n",
      "3\n",
      "4\n",
      "5\n"
     ]
    }
   ],
   "source": [
    "cum_num = 0\n",
    "for i in num:\n",
    "    print(cum_num)\n",
    "    cum_num+=1\n",
    "    "
   ]
  },
  {
   "cell_type": "code",
   "execution_count": 31,
   "id": "260bfe83",
   "metadata": {},
   "outputs": [
    {
     "name": "stdout",
     "output_type": "stream",
     "text": [
      "s\n",
      "a\n",
      "s\n",
      "t\n",
      "r\n",
      "a\n"
     ]
    }
   ],
   "source": [
    "word = 'sastra'\n",
    "\n",
    "for a in word:\n",
    "    print(a)"
   ]
  },
  {
   "cell_type": "markdown",
   "id": "765e6de5",
   "metadata": {},
   "source": [
    "<img src=\"add.jpg\" style=\"width:300px;height:200px\"/>"
   ]
  },
  {
   "cell_type": "code",
   "execution_count": 32,
   "id": "94ba6c4e",
   "metadata": {},
   "outputs": [],
   "source": [
    "list = [(1,2),(3,4),(5,6)]"
   ]
  },
  {
   "cell_type": "code",
   "execution_count": 33,
   "id": "e393170e",
   "metadata": {},
   "outputs": [],
   "source": [
    "v1,v2 = 1,2"
   ]
  },
  {
   "cell_type": "code",
   "execution_count": 34,
   "id": "ed2e3891",
   "metadata": {},
   "outputs": [
    {
     "data": {
      "text/plain": [
       "1"
      ]
     },
     "execution_count": 34,
     "metadata": {},
     "output_type": "execute_result"
    }
   ],
   "source": [
    "v1"
   ]
  },
  {
   "cell_type": "code",
   "execution_count": 35,
   "id": "3e1a2103",
   "metadata": {},
   "outputs": [
    {
     "data": {
      "text/plain": [
       "2"
      ]
     },
     "execution_count": 35,
     "metadata": {},
     "output_type": "execute_result"
    }
   ],
   "source": [
    "v2"
   ]
  },
  {
   "cell_type": "code",
   "execution_count": 36,
   "id": "3b9a61bc",
   "metadata": {},
   "outputs": [
    {
     "name": "stdout",
     "output_type": "stream",
     "text": [
      "x = 1 and y = 2\n",
      "x = 3 and y = 4\n",
      "x = 5 and y = 6\n"
     ]
    }
   ],
   "source": [
    "for x,y in list:\n",
    "    print(f'x = {x} and y = {y}')"
   ]
  },
  {
   "cell_type": "code",
   "execution_count": 42,
   "id": "9e32d4f3",
   "metadata": {},
   "outputs": [],
   "source": [
    "hobby = {1:'sport',2:'music',3:'art',4:'game'}"
   ]
  },
  {
   "cell_type": "code",
   "execution_count": 43,
   "id": "9a38c355",
   "metadata": {},
   "outputs": [
    {
     "name": "stdout",
     "output_type": "stream",
     "text": [
      "(1, 'sport')\n",
      "(2, 'music')\n",
      "(3, 'art')\n",
      "(4, 'game')\n"
     ]
    }
   ],
   "source": [
    "for pair in hobby.items():\n",
    "    print(pair)"
   ]
  },
  {
   "cell_type": "code",
   "execution_count": 45,
   "id": "fda1c9fa",
   "metadata": {},
   "outputs": [
    {
     "name": "stdout",
     "output_type": "stream",
     "text": [
      "number: 1 has hobby: sport\n",
      "number: 2 has hobby: music\n",
      "number: 3 has hobby: art\n",
      "number: 4 has hobby: game\n"
     ]
    }
   ],
   "source": [
    "for no, hob in hobby.items():\n",
    "    print(f'number: {no} has hobby: {hob}')"
   ]
  },
  {
   "cell_type": "code",
   "execution_count": 46,
   "id": "c55770c2",
   "metadata": {},
   "outputs": [
    {
     "name": "stdout",
     "output_type": "stream",
     "text": [
      "sport\n",
      "music\n",
      "art\n",
      "game\n"
     ]
    }
   ],
   "source": [
    "for no, hob in hobby.items():\n",
    "    print(hob)"
   ]
  },
  {
   "cell_type": "markdown",
   "id": "d481205e",
   "metadata": {},
   "source": [
    "# While Loop"
   ]
  },
  {
   "cell_type": "markdown",
   "id": "69fc07ac",
   "metadata": {},
   "source": [
    "<img src=\"while.jpg\" style=\"width:300px;height:200px\"/>"
   ]
  },
  {
   "cell_type": "code",
   "execution_count": 55,
   "id": "3017dfaa",
   "metadata": {},
   "outputs": [
    {
     "name": "stdout",
     "output_type": "stream",
     "text": [
      "0\n",
      "1\n",
      "2\n",
      "3\n",
      "4\n",
      "5\n",
      "6\n",
      "7\n",
      "8\n",
      "9\n",
      "10\n",
      "11 is more than 10\n"
     ]
    }
   ],
   "source": [
    "stopper = 10\n",
    "i = 0\n",
    "\n",
    "while i<=stopper:\n",
    "    print(i)\n",
    "    i+=1\n",
    "else:\n",
    "    print(i,'is more than',stopper)"
   ]
  },
  {
   "cell_type": "markdown",
   "id": "5100ac2e",
   "metadata": {},
   "source": [
    "# Loops Using Range"
   ]
  },
  {
   "cell_type": "code",
   "execution_count": 59,
   "id": "b71708b8",
   "metadata": {},
   "outputs": [],
   "source": [
    "x = range(10)"
   ]
  },
  {
   "cell_type": "code",
   "execution_count": 60,
   "id": "841abb52",
   "metadata": {},
   "outputs": [
    {
     "name": "stdout",
     "output_type": "stream",
     "text": [
      "range(0, 10)\n"
     ]
    }
   ],
   "source": [
    "print(x)"
   ]
  },
  {
   "cell_type": "code",
   "execution_count": 61,
   "id": "64d0452b",
   "metadata": {},
   "outputs": [
    {
     "name": "stdout",
     "output_type": "stream",
     "text": [
      "0\n",
      "1\n",
      "2\n",
      "3\n",
      "4\n",
      "5\n",
      "6\n",
      "7\n",
      "8\n",
      "9\n",
      "10\n",
      "11\n",
      "12\n",
      "13\n"
     ]
    }
   ],
   "source": [
    "x = 14\n",
    "\n",
    "for i in range(x):\n",
    "    print(i)"
   ]
  },
  {
   "cell_type": "code",
   "execution_count": 63,
   "id": "66fe7b85",
   "metadata": {},
   "outputs": [
    {
     "name": "stdout",
     "output_type": "stream",
     "text": [
      "4\n",
      "6\n",
      "8\n",
      "10\n",
      "12\n",
      "14\n"
     ]
    }
   ],
   "source": [
    "start = 4\n",
    "end = 15\n",
    "step = 2\n",
    "\n",
    "for i in range(start,end,step):\n",
    "    print(i)"
   ]
  },
  {
   "cell_type": "code",
   "execution_count": 66,
   "id": "22f80871",
   "metadata": {},
   "outputs": [
    {
     "name": "stdout",
     "output_type": "stream",
     "text": [
      "a\n",
      "b\n",
      "c\n",
      "d\n",
      "e\n",
      "f\n",
      "g\n",
      "\n",
      "Counter = 7\n"
     ]
    }
   ],
   "source": [
    "letters = ['a','b','c','d','e','f','g']\n",
    "counter = 0\n",
    "\n",
    "for i in letters:\n",
    "    print(i)\n",
    "    counter+=1\n",
    "print('\\nCounter =',counter)"
   ]
  },
  {
   "cell_type": "code",
   "execution_count": 69,
   "id": "fb857b05",
   "metadata": {},
   "outputs": [
    {
     "name": "stdout",
     "output_type": "stream",
     "text": [
      "0 a\n",
      "1 b\n",
      "2 c\n",
      "3 d\n",
      "4 e\n",
      "5 f\n",
      "6 g\n",
      "\n",
      "Counter = 7\n"
     ]
    }
   ],
   "source": [
    "letters = ['a','b','c','d','e','f','g']\n",
    "counter = 0\n",
    "\n",
    "for x,y in enumerate(letters):\n",
    "    print(x,y)\n",
    "    counter+=1\n",
    "print('\\nCounter =',counter)"
   ]
  }
 ],
 "metadata": {
  "kernelspec": {
   "display_name": "Python 3 (ipykernel)",
   "language": "python",
   "name": "python3"
  },
  "language_info": {
   "codemirror_mode": {
    "name": "ipython",
    "version": 3
   },
   "file_extension": ".py",
   "mimetype": "text/x-python",
   "name": "python",
   "nbconvert_exporter": "python",
   "pygments_lexer": "ipython3",
   "version": "3.9.7"
  }
 },
 "nbformat": 4,
 "nbformat_minor": 5
}
