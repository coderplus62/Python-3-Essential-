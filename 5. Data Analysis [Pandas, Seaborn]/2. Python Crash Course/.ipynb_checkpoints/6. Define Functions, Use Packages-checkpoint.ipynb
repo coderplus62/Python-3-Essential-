{
 "cells": [
  {
   "cell_type": "markdown",
   "id": "f17f00ed",
   "metadata": {},
   "source": [
    "# Define Function"
   ]
  },
  {
   "cell_type": "markdown",
   "id": "6b7c29b5",
   "metadata": {},
   "source": [
    "<img src=\"define_function.jpg\" style=\"width:300px;height:200px\"/>"
   ]
  },
  {
   "cell_type": "code",
   "execution_count": 1,
   "id": "9fa232cc",
   "metadata": {},
   "outputs": [
    {
     "name": "stdout",
     "output_type": "stream",
     "text": [
      "Insert distance:75\n",
      "Insert time:2\n",
      "Distance: 75\n",
      "Time: 2\n",
      "Velocity: 37.5\n"
     ]
    }
   ],
   "source": [
    "distance = int(input('Insert distance:'))\n",
    "time = int(input('Insert time:'))\n",
    "\n",
    "def velocity(distance,time):\n",
    "    velocity = distance/time\n",
    "    print(f'Distance: {distance}\\nTime: {time}\\nVelocity: {velocity}')\n",
    "    \n",
    "velocity(distance,time)"
   ]
  },
  {
   "cell_type": "code",
   "execution_count": 2,
   "id": "9727942a",
   "metadata": {},
   "outputs": [
    {
     "name": "stdout",
     "output_type": "stream",
     "text": [
      "Insert distance:10\n",
      "Insert time:2\n"
     ]
    }
   ],
   "source": [
    "distance = int(input('Insert distance:'))\n",
    "time = int(input('Insert time:'))\n",
    "\n",
    "def velocity(distance,time):\n",
    "    velocity = distance/time\n",
    "    print(f'Distance: {distance}\\nTime: {time}\\nVelocity: {velocity}')\n",
    "    return velocity"
   ]
  },
  {
   "cell_type": "code",
   "execution_count": 4,
   "id": "d10f3ba8",
   "metadata": {},
   "outputs": [
    {
     "name": "stdout",
     "output_type": "stream",
     "text": [
      "Distance: 30\n",
      "Time: 3\n",
      "Velocity: 10.0\n"
     ]
    }
   ],
   "source": [
    "vel1 = velocity(distance=30,time=3)"
   ]
  },
  {
   "cell_type": "code",
   "execution_count": 5,
   "id": "6894a417",
   "metadata": {},
   "outputs": [
    {
     "name": "stdout",
     "output_type": "stream",
     "text": [
      "Distance: 25\n",
      "Time: 5\n",
      "Velocity: 5.0\n"
     ]
    }
   ],
   "source": [
    "vel2 = velocity(25,5)"
   ]
  },
  {
   "cell_type": "markdown",
   "id": "f87982dc",
   "metadata": {},
   "source": [
    "# Module"
   ]
  },
  {
   "cell_type": "markdown",
   "id": "540d4f89",
   "metadata": {},
   "source": [
    "<img src=\"module.jpg\" style=\"width:300px;height:200px\"/>"
   ]
  },
  {
   "cell_type": "markdown",
   "id": "7503ecf0",
   "metadata": {},
   "source": [
    "<img src=\"module1.jpg\" style=\"width:300px;height:200px\"/>"
   ]
  },
  {
   "cell_type": "markdown",
   "id": "b350b23a",
   "metadata": {},
   "source": [
    "# Import Module NumPy"
   ]
  },
  {
   "cell_type": "code",
   "execution_count": 7,
   "id": "20740077",
   "metadata": {},
   "outputs": [],
   "source": [
    "import numpy as np"
   ]
  },
  {
   "cell_type": "code",
   "execution_count": 9,
   "id": "8d2e33b6",
   "metadata": {},
   "outputs": [
    {
     "data": {
      "text/plain": [
       "array([ 0,  1,  2,  3,  4,  5,  6,  7,  8,  9, 10])"
      ]
     },
     "execution_count": 9,
     "metadata": {},
     "output_type": "execute_result"
    }
   ],
   "source": [
    "np.arange(11)"
   ]
  },
  {
   "cell_type": "code",
   "execution_count": 10,
   "id": "d56e3882",
   "metadata": {},
   "outputs": [],
   "source": [
    "from numpy import arange"
   ]
  },
  {
   "cell_type": "code",
   "execution_count": 11,
   "id": "f8982982",
   "metadata": {},
   "outputs": [
    {
     "data": {
      "text/plain": [
       "array([ 0,  1,  2,  3,  4,  5,  6,  7,  8,  9, 10])"
      ]
     },
     "execution_count": 11,
     "metadata": {},
     "output_type": "execute_result"
    }
   ],
   "source": [
    "arange(11)"
   ]
  },
  {
   "cell_type": "code",
   "execution_count": null,
   "id": "604f39c8",
   "metadata": {},
   "outputs": [],
   "source": []
  }
 ],
 "metadata": {
  "kernelspec": {
   "display_name": "Python 3 (ipykernel)",
   "language": "python",
   "name": "python3"
  },
  "language_info": {
   "codemirror_mode": {
    "name": "ipython",
    "version": 3
   },
   "file_extension": ".py",
   "mimetype": "text/x-python",
   "name": "python",
   "nbconvert_exporter": "python",
   "pygments_lexer": "ipython3",
   "version": "3.9.7"
  }
 },
 "nbformat": 4,
 "nbformat_minor": 5
}
